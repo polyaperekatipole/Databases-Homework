{
 "cells": [
  {
   "cell_type": "markdown",
   "metadata": {},
   "source": [
    "### Homework 2. Databases"
   ]
  },
  {
   "cell_type": "markdown",
   "metadata": {},
   "source": [
    "*Polina Artemeva*"
   ]
  },
  {
   "cell_type": "markdown",
   "metadata": {},
   "source": [
    "I took a table from our Statistics class. It has data on how people in different regions and of different sexes finish the phrase: 'Жадина-говядина....' 1) солёный огурец; 2) турецкий барабан; 3) шоколадина"
   ]
  },
  {
   "cell_type": "code",
   "execution_count": 1,
   "metadata": {},
   "outputs": [],
   "source": [
    "import pandas as pd\n",
    "import csv\n",
    "import sqlite3"
   ]
  },
  {
   "cell_type": "code",
   "execution_count": 2,
   "metadata": {},
   "outputs": [],
   "source": [
    "df = pd.read_csv('socling.csv', sep=',', encoding='utf-8') # opening the data"
   ]
  },
  {
   "cell_type": "code",
   "execution_count": 13,
   "metadata": {},
   "outputs": [
    {
     "data": {
      "text/html": [
       "<div>\n",
       "<style scoped>\n",
       "    .dataframe tbody tr th:only-of-type {\n",
       "        vertical-align: middle;\n",
       "    }\n",
       "\n",
       "    .dataframe tbody tr th {\n",
       "        vertical-align: top;\n",
       "    }\n",
       "\n",
       "    .dataframe thead th {\n",
       "        text-align: right;\n",
       "    }\n",
       "</style>\n",
       "<table border=\"1\" class=\"dataframe\">\n",
       "  <thead>\n",
       "    <tr style=\"text-align: right;\">\n",
       "      <th></th>\n",
       "      <th>X</th>\n",
       "      <th>id</th>\n",
       "      <th>region</th>\n",
       "      <th>fdistrict</th>\n",
       "      <th>sex</th>\n",
       "      <th>phrase</th>\n",
       "      <th>phrase.tr</th>\n",
       "      <th>phrase.eng</th>\n",
       "    </tr>\n",
       "  </thead>\n",
       "  <tbody>\n",
       "    <tr>\n",
       "      <th>0</th>\n",
       "      <td>1</td>\n",
       "      <td>9</td>\n",
       "      <td>Moscow</td>\n",
       "      <td>Central</td>\n",
       "      <td>male</td>\n",
       "      <td>соленый огурец</td>\n",
       "      <td>solenyj ogurec</td>\n",
       "      <td>pickle</td>\n",
       "    </tr>\n",
       "    <tr>\n",
       "      <th>1</th>\n",
       "      <td>2</td>\n",
       "      <td>1</td>\n",
       "      <td>Moscow</td>\n",
       "      <td>Central</td>\n",
       "      <td>female</td>\n",
       "      <td>соленый огурец</td>\n",
       "      <td>solenyj ogurec</td>\n",
       "      <td>pickle</td>\n",
       "    </tr>\n",
       "    <tr>\n",
       "      <th>2</th>\n",
       "      <td>3</td>\n",
       "      <td>3</td>\n",
       "      <td>Moscow</td>\n",
       "      <td>Central</td>\n",
       "      <td>female</td>\n",
       "      <td>соленый огурец</td>\n",
       "      <td>solenyj ogurec</td>\n",
       "      <td>pickle</td>\n",
       "    </tr>\n",
       "    <tr>\n",
       "      <th>3</th>\n",
       "      <td>4</td>\n",
       "      <td>7</td>\n",
       "      <td>Moscow</td>\n",
       "      <td>Central</td>\n",
       "      <td>male</td>\n",
       "      <td>соленый огурец</td>\n",
       "      <td>solenyj ogurec</td>\n",
       "      <td>pickle</td>\n",
       "    </tr>\n",
       "    <tr>\n",
       "      <th>4</th>\n",
       "      <td>5</td>\n",
       "      <td>3</td>\n",
       "      <td>Moscow</td>\n",
       "      <td>Central</td>\n",
       "      <td>female</td>\n",
       "      <td>соленый огурец</td>\n",
       "      <td>solenyj ogurec</td>\n",
       "      <td>pickle</td>\n",
       "    </tr>\n",
       "  </tbody>\n",
       "</table>\n",
       "</div>"
      ],
      "text/plain": [
       "   X  id  region fdistrict     sex          phrase       phrase.tr phrase.eng\n",
       "0  1   9  Moscow   Central    male  соленый огурец  solenyj ogurec     pickle\n",
       "1  2   1  Moscow   Central  female  соленый огурец  solenyj ogurec     pickle\n",
       "2  3   3  Moscow   Central  female  соленый огурец  solenyj ogurec     pickle\n",
       "3  4   7  Moscow   Central    male  соленый огурец  solenyj ogurec     pickle\n",
       "4  5   3  Moscow   Central  female  соленый огурец  solenyj ogurec     pickle"
      ]
     },
     "execution_count": 13,
     "metadata": {},
     "output_type": "execute_result"
    }
   ],
   "source": [
    "df.head() # first five rows"
   ]
  },
  {
   "cell_type": "markdown",
   "metadata": {},
   "source": [
    "To create two tables out of one I have decided to divide this data in two: first one will contain phrases and other, and the second one will contain persons, region, etc."
   ]
  },
  {
   "cell_type": "code",
   "execution_count": 5,
   "metadata": {},
   "outputs": [],
   "source": [
    "df_phrases = df[['X', 'id', 'phrase', 'phrase.tr', 'phrase.eng'] ] \n",
    "df_persons =  df[['X', 'region', 'fdistrict', 'sex'] ]"
   ]
  },
  {
   "cell_type": "markdown",
   "metadata": {},
   "source": [
    "**Creating a database**"
   ]
  },
  {
   "cell_type": "code",
   "execution_count": 6,
   "metadata": {},
   "outputs": [],
   "source": [
    "con = sqlite3.connect(\"socling.db\")\n",
    "c = con.cursor() # to send commands to our database\n",
    "df_phrases.to_sql(name='phrases', con=con, if_exists='replace')\n",
    "df_persons.to_sql(name='persons', con=con, if_exists='replace')"
   ]
  },
  {
   "cell_type": "markdown",
   "metadata": {},
   "source": [
    "Here I connect two tables in one database. 'X' is what connects them, this is a primary key, an index of all participants and related informtion."
   ]
  },
  {
   "cell_type": "code",
   "execution_count": 8,
   "metadata": {},
   "outputs": [
    {
     "name": "stdout",
     "output_type": "stream",
     "text": [
      "(0, 1, 9, 'соленый огурец', 'solenyj ogurec', 'pickle')\n",
      "(1, 2, 1, 'соленый огурец', 'solenyj ogurec', 'pickle')\n",
      "(2, 3, 3, 'соленый огурец', 'solenyj ogurec', 'pickle')\n",
      "(3, 4, 7, 'соленый огурец', 'solenyj ogurec', 'pickle')\n",
      "(4, 5, 3, 'соленый огурец', 'solenyj ogurec', 'pickle')\n",
      "(5, 6, 8, 'соленый огурец', 'solenyj ogurec', 'pickle')\n",
      "(6, 7, 8, 'соленый огурец', 'solenyj ogurec', 'pickle')\n",
      "(7, 8, 8, 'соленый огурец', 'solenyj ogurec', 'pickle')\n",
      "(8, 9, 10, 'соленый огурец', 'solenyj ogurec', 'pickle')\n",
      "(9, 10, 7, 'соленый огурец', 'solenyj ogurec', 'pickle')\n",
      "(10, 11, 9, 'соленый огурец', 'solenyj ogurec', 'pickle')\n",
      "(11, 12, 4, 'соленый огурец', 'solenyj ogurec', 'pickle')\n",
      "(12, 13, 10, 'соленый огурец', 'solenyj ogurec', 'pickle')\n",
      "(13, 14, 7, 'соленый огурец', 'solenyj ogurec', 'pickle')\n",
      "(14, 15, 9, 'соленый огурец', 'solenyj ogurec', 'pickle')\n",
      "(15, 16, 4, 'соленый огурец', 'solenyj ogurec', 'pickle')\n",
      "(16, 17, 4, 'турецкий барабан', 'tureckij baraban', 'turkish drum')\n",
      "(17, 18, 5, 'турецкий барабан', 'tureckij baraban', 'turkish drum')\n",
      "(18, 19, 2, 'турецкий барабан', 'tureckij baraban', 'turkish drum')\n",
      "(19, 20, 2, 'турецкий барабан', 'tureckij baraban', 'turkish drum')\n",
      "(20, 21, 5, 'турецкий барабан', 'tureckij baraban', 'turkish drum')\n",
      "(21, 22, 2, 'турецкий барабан', 'tureckij baraban', 'turkish drum')\n",
      "(22, 23, 5, 'турецкий барабан', 'tureckij baraban', 'turkish drum')\n",
      "(23, 24, 5, 'турецкий барабан', 'tureckij baraban', 'turkish drum')\n",
      "(24, 25, 8, 'турецкий барабан', 'tureckij baraban', 'turkish drum')\n",
      "(25, 26, 6, 'соленый огурец', 'solenyj ogurec', 'pickle')\n",
      "(26, 27, 3, 'соленый огурец', 'solenyj ogurec', 'pickle')\n",
      "(27, 28, 7, 'соленый огурец', 'solenyj ogurec', 'pickle')\n",
      "(28, 29, 7, 'соленый огурец', 'solenyj ogurec', 'pickle')\n",
      "(29, 39, 1, 'соленый огурец', 'solenyj ogurec', 'pickle')\n",
      "(30, 48, 1, 'соленый огурец', 'solenyj ogurec', 'pickle')\n",
      "(31, 50, 1, 'соленый огурец', 'solenyj ogurec', 'pickle')\n",
      "(32, 30, 2, 'соленый огурец', 'solenyj ogurec', 'pickle')\n",
      "(33, 35, 2, 'соленый огурец', 'solenyj ogurec', 'pickle')\n",
      "(34, 36, 2, 'соленый огурец', 'solenyj ogurec', 'pickle')\n",
      "(35, 40, 2, 'соленый огурец', 'solenyj ogurec', 'pickle')\n",
      "(36, 41, 2, 'соленый огурец', 'solenyj ogurec', 'pickle')\n",
      "(37, 49, 2, 'соленый огурец', 'solenyj ogurec', 'pickle')\n",
      "(38, 55, 2, 'соленый огурец', 'solenyj ogurec', 'pickle')\n",
      "(39, 42, 3, 'соленый огурец', 'solenyj ogurec', 'pickle')\n",
      "(40, 43, 3, 'соленый огурец', 'solenyj ogurec', 'pickle')\n",
      "(41, 44, 3, 'соленый огурец', 'solenyj ogurec', 'pickle')\n",
      "(42, 54, 3, 'соленый огурец', 'solenyj ogurec', 'pickle')\n",
      "(43, 63, 3, 'соленый огурец', 'solenyj ogurec', 'pickle')\n",
      "(44, 31, 4, 'соленый огурец', 'solenyj ogurec', 'pickle')\n",
      "(45, 38, 4, 'соленый огурец', 'solenyj ogurec', 'pickle')\n",
      "(46, 57, 4, 'соленый огурец', 'solenyj ogurec', 'pickle')\n",
      "(47, 59, 4, 'турецкий барабан', 'tureckij baraban', 'turkish drum')\n",
      "(48, 32, 5, 'шоколадина', 'šokoladina', 'chocolate bar')\n",
      "(49, 33, 5, 'шоколадина', 'šokoladina', 'chocolate bar')\n",
      "(50, 47, 5, 'шоколадина', 'šokoladina', 'chocolate bar')\n",
      "(51, 51, 5, 'шоколадина', 'šokoladina', 'chocolate bar')\n",
      "(52, 45, 6, 'шоколадина', 'šokoladina', 'chocolate bar')\n",
      "(53, 52, 6, 'шоколадина', 'šokoladina', 'chocolate bar')\n",
      "(54, 53, 8, 'соленый огурец', 'solenyj ogurec', 'pickle')\n",
      "(55, 58, 8, 'соленый огурец', 'solenyj ogurec', 'pickle')\n",
      "(56, 61, 8, 'соленый огурец', 'solenyj ogurec', 'pickle')\n",
      "(57, 62, 8, 'соленый огурец', 'solenyj ogurec', 'pickle')\n",
      "(58, 34, 9, 'соленый огурец', 'solenyj ogurec', 'pickle')\n",
      "(59, 37, 9, 'соленый огурец', 'solenyj ogurec', 'pickle')\n",
      "(60, 46, 9, 'соленый огурец', 'solenyj ogurec', 'pickle')\n",
      "(61, 56, 9, 'соленый огурец', 'solenyj ogurec', 'pickle')\n",
      "(62, 60, 9, 'соленый огурец', 'solenyj ogurec', 'pickle')\n"
     ]
    }
   ],
   "source": [
    "for row in c.execute('SELECT * FROM phrases'):\n",
    "    print(row)"
   ]
  },
  {
   "cell_type": "markdown",
   "metadata": {},
   "source": [
    "We got a database with all the information and with _SELECT *_ I'm asking to show me all the information from database from table *phrases*, which contains information about  number of a row, index, phrase, its transcription and translation. (Unfortunately I wasn't able to remember what does id mean)"
   ]
  },
  {
   "cell_type": "code",
   "execution_count": 8,
   "metadata": {},
   "outputs": [
    {
     "name": "stdout",
     "output_type": "stream",
     "text": [
      "(0, 1, 'Moscow', 'Central', 'male')\n",
      "(1, 2, 'Moscow', 'Central', 'female')\n",
      "(2, 3, 'Moscow', 'Central', 'female')\n",
      "(3, 4, 'Moscow', 'Central', 'male')\n",
      "(4, 5, 'Moscow', 'Central', 'female')\n",
      "(5, 6, 'Moscow', 'Central', 'male')\n",
      "(6, 7, 'Moscow', 'Central', 'male')\n",
      "(7, 8, 'Moscow', 'Central', 'male')\n",
      "(8, 9, 'Moscow', 'Central', 'male')\n",
      "(9, 10, 'Moscow', 'Central', 'male')\n",
      "(10, 11, 'Moscow', 'Central', 'male')\n",
      "(11, 12, 'Moscow', 'Central', 'female')\n",
      "(12, 13, 'Moscow', 'Central', 'male')\n",
      "(13, 14, 'Moscow', 'Central', 'male')\n",
      "(14, 15, 'Moscow', 'Central', 'male')\n",
      "(15, 16, 'Moscow', 'Central', 'female')\n",
      "(16, 17, 'Moscow', 'Central', 'female')\n",
      "(17, 18, 'Moscow', 'Central', 'female')\n",
      "(18, 19, 'Moscow', 'Central', 'female')\n",
      "(19, 20, 'Moscow', 'Central', 'female')\n",
      "(20, 21, 'Moscow', 'Central', 'female')\n",
      "(21, 22, 'Moscow', 'Central', 'female')\n",
      "(22, 23, 'Moscow', 'Central', 'female')\n",
      "(23, 24, 'Moscow', 'Central', 'female')\n",
      "(24, 25, 'Moscow', 'Central', 'male')\n",
      "(25, 26, 'Moskovskaja oblast', 'Central', 'male')\n",
      "(26, 27, 'Moskovskaja oblast', 'Central', 'female')\n",
      "(27, 28, 'Moskovskaja oblast', 'Central', 'male')\n",
      "(28, 29, 'Moskovskaja oblast', 'Central', 'male')\n",
      "(29, 39, 'Arjhangelskaja oblast', 'Northwestern', 'female')\n",
      "(30, 48, 'Other', 'Other', 'female')\n",
      "(31, 50, 'Other', 'Other', 'female')\n",
      "(32, 30, 'Respublika Saha (Jakutija)', 'Siberian', 'female')\n",
      "(33, 35, 'Volgogradskaja oblast', 'Volga', 'female')\n",
      "(34, 36, 'Volgogradskaja oblast', 'Volga', 'female')\n",
      "(35, 40, 'Other', 'Other', 'female')\n",
      "(36, 41, 'Other', 'Other', 'female')\n",
      "(37, 49, 'Other', 'Other', 'female')\n",
      "(38, 55, 'Other', 'Other', 'female')\n",
      "(39, 42, 'Other', 'Other', 'female')\n",
      "(40, 43, 'Other', 'Other', 'female')\n",
      "(41, 44, 'Other', 'Other', 'female')\n",
      "(42, 54, 'Other', 'Other', 'female')\n",
      "(43, 63, 'Khabarovskij kraj', 'Far Eastern', 'female')\n",
      "(44, 31, 'Respublika Saha (Jakutija)', 'Siberian', 'female')\n",
      "(45, 38, 'Murmanskaja oblast', 'Northwestern', 'female')\n",
      "(46, 57, 'Other', 'Other', 'female')\n",
      "(47, 59, 'Other', 'Abroad', 'female')\n",
      "(48, 32, 'Respublika Saha (Jakutija)', 'Siberian', 'female')\n",
      "(49, 33, 'Samarskaja oblast', 'Volga', 'male')\n",
      "(50, 47, 'Other', 'Other', 'male')\n",
      "(51, 51, 'Other', 'Other', 'male')\n",
      "(52, 45, 'Other', 'Other', 'male')\n",
      "(53, 52, 'Other', 'Other', 'male')\n",
      "(54, 53, 'Other', 'Other', 'male')\n",
      "(55, 58, 'Other', 'Abroad', 'male')\n",
      "(56, 61, 'Other', 'Far Eastern', 'male')\n",
      "(57, 62, 'Amurskaja oblast', 'Far Eastern', 'male')\n",
      "(58, 34, 'Samarskaja oblast', 'Volga', 'male')\n",
      "(59, 37, 'Altajskij kraj', 'Far Eastern', 'male')\n",
      "(60, 46, 'Other', 'Other', 'male')\n",
      "(61, 56, 'Other', 'Other', 'male')\n",
      "(62, 60, 'Other', 'Other', 'male')\n"
     ]
    }
   ],
   "source": [
    "for row in c.execute('SELECT * FROM persons'):\n",
    "    print(row)"
   ]
  },
  {
   "cell_type": "markdown",
   "metadata": {},
   "source": [
    "Same but with _persons_"
   ]
  },
  {
   "cell_type": "markdown",
   "metadata": {},
   "source": [
    "**Queries**"
   ]
  },
  {
   "cell_type": "code",
   "execution_count": 9,
   "metadata": {},
   "outputs": [
    {
     "name": "stdout",
     "output_type": "stream",
     "text": [
      "[(0, 1, 'Moscow', 'Central', 'male'), (3, 4, 'Moscow', 'Central', 'male'), (5, 6, 'Moscow', 'Central', 'male'), (6, 7, 'Moscow', 'Central', 'male'), (7, 8, 'Moscow', 'Central', 'male'), (8, 9, 'Moscow', 'Central', 'male'), (9, 10, 'Moscow', 'Central', 'male'), (10, 11, 'Moscow', 'Central', 'male'), (12, 13, 'Moscow', 'Central', 'male'), (13, 14, 'Moscow', 'Central', 'male'), (14, 15, 'Moscow', 'Central', 'male'), (24, 25, 'Moscow', 'Central', 'male'), (25, 26, 'Moskovskaja oblast', 'Central', 'male'), (27, 28, 'Moskovskaja oblast', 'Central', 'male'), (28, 29, 'Moskovskaja oblast', 'Central', 'male'), (49, 33, 'Samarskaja oblast', 'Volga', 'male'), (50, 47, 'Other', 'Other', 'male'), (51, 51, 'Other', 'Other', 'male'), (52, 45, 'Other', 'Other', 'male'), (53, 52, 'Other', 'Other', 'male'), (54, 53, 'Other', 'Other', 'male'), (55, 58, 'Other', 'Abroad', 'male'), (56, 61, 'Other', 'Far Eastern', 'male'), (57, 62, 'Amurskaja oblast', 'Far Eastern', 'male'), (58, 34, 'Samarskaja oblast', 'Volga', 'male'), (59, 37, 'Altajskij kraj', 'Far Eastern', 'male'), (60, 46, 'Other', 'Other', 'male'), (61, 56, 'Other', 'Other', 'male'), (62, 60, 'Other', 'Other', 'male')]\n"
     ]
    }
   ],
   "source": [
    "x = ('male',) #selecting all males\n",
    "c.execute('SELECT * FROM persons WHERE sex=?', x)\n",
    "print(c.fetchall())"
   ]
  },
  {
   "cell_type": "markdown",
   "metadata": {},
   "source": [
    "I'm asking the database to show me all information about male participants"
   ]
  },
  {
   "cell_type": "code",
   "execution_count": 30,
   "metadata": {},
   "outputs": [
    {
     "name": "stdout",
     "output_type": "stream",
     "text": [
      "шоколадина 6  раз\n",
      "соленый огурец 47  раз\n",
      "турецкий барабан 10  раз\n"
     ]
    }
   ],
   "source": [
    "numbers = []\n",
    "c.execute('SELECT * FROM phrases WHERE phrase=\"шоколадина\"')\n",
    "n = len(c.fetchall())\n",
    "print(\"шоколадина\",n, \" раз\")\n",
    "numbers.append(n)\n",
    "\n",
    "c.execute('SELECT * FROM phrases WHERE phrase=\"соленый огурец\"')\n",
    "n = len(c.fetchall())\n",
    "print(\"соленый огурец\",n, \" раз\")\n",
    "numbers.append(n)\n",
    "\n",
    "\n",
    "c.execute('SELECT * FROM phrases WHERE phrase=\"турецкий барабан\"')\n",
    "n = len(c.fetchall())\n",
    "print(\"турецкий барабан\",n, \" раз\")\n",
    "numbers.append(n)\n"
   ]
  },
  {
   "cell_type": "markdown",
   "metadata": {},
   "source": [
    "Here I'm asking my database to show me how many times each ending appears in the table."
   ]
  },
  {
   "cell_type": "code",
   "execution_count": 80,
   "metadata": {},
   "outputs": [
    {
     "name": "stdout",
     "output_type": "stream",
     "text": [
      "(0, 1, 'Moscow', 'Central', 'male')\n",
      "(3, 4, 'Moscow', 'Central', 'male')\n",
      "(5, 6, 'Moscow', 'Central', 'male')\n",
      "(6, 7, 'Moscow', 'Central', 'male')\n",
      "(7, 8, 'Moscow', 'Central', 'male')\n",
      "(8, 9, 'Moscow', 'Central', 'male')\n",
      "(9, 10, 'Moscow', 'Central', 'male')\n",
      "(10, 11, 'Moscow', 'Central', 'male')\n",
      "(12, 13, 'Moscow', 'Central', 'male')\n",
      "(13, 14, 'Moscow', 'Central', 'male')\n",
      "(14, 15, 'Moscow', 'Central', 'male')\n",
      "(25, 26, 'Moskovskaja oblast', 'Central', 'male')\n",
      "(27, 28, 'Moskovskaja oblast', 'Central', 'male')\n",
      "(28, 29, 'Moskovskaja oblast', 'Central', 'male')\n",
      "(54, 53, 'Other', 'Other', 'male')\n",
      "(55, 58, 'Other', 'Abroad', 'male')\n",
      "(56, 61, 'Other', 'Far Eastern', 'male')\n",
      "(57, 62, 'Amurskaja oblast', 'Far Eastern', 'male')\n",
      "(58, 34, 'Samarskaja oblast', 'Volga', 'male')\n",
      "(59, 37, 'Altajskij kraj', 'Far Eastern', 'male')\n",
      "(60, 46, 'Other', 'Other', 'male')\n",
      "(61, 56, 'Other', 'Other', 'male')\n",
      "(62, 60, 'Other', 'Other', 'male')\n"
     ]
    }
   ],
   "source": [
    "c.execute('''SELECT *\n",
    "        FROM persons\n",
    "        WHERE X IN(SELECT X \n",
    "         FROM phrases\n",
    "         WHERE phrase = 'соленый огурец')\n",
    "         AND persons.sex = 'male'   ''') \n",
    "\n",
    "for row in c.fetchall():\n",
    "    print(row)"
   ]
  },
  {
   "cell_type": "markdown",
   "metadata": {},
   "source": [
    "Here I create a two conditions query to find all males who finished the phrase with 'Солёный огурец'. First condition: FROM phrases WHERE phrase = 'соленый огурец'. Second condition: FROM persons WHERE X IN AND persons.sex = 'male'. Because I have all the needed information in two different tables I send my query to both of this tables, connected with the primary key X."
   ]
  },
  {
   "cell_type": "code",
   "execution_count": 84,
   "metadata": {},
   "outputs": [
    {
     "name": "stdout",
     "output_type": "stream",
     "text": [
      "('Respublika Saha (Jakutija)',)\n",
      "('Samarskaja oblast',)\n",
      "('Other',)\n",
      "('Other',)\n",
      "('Other',)\n",
      "('Other',)\n"
     ]
    }
   ],
   "source": [
    "c.execute('''SELECT region\n",
    "        FROM persons\n",
    "        WHERE X IN(SELECT X \n",
    "         FROM phrases\n",
    "         WHERE phrase = 'шоколадина')  ''') \n",
    "\n",
    "for row in c.fetchall():\n",
    "    print(row)"
   ]
  },
  {
   "cell_type": "markdown",
   "metadata": {},
   "source": [
    "It was interesting for me to look at the regions where people finished the phrase with 'Шоколадина'. And strangely, they are all from different, not even closely situated (known) regions. And other people, apparently, preferred not to indicate their region, that's why we got so many \"Other\"."
   ]
  },
  {
   "cell_type": "code",
   "execution_count": 23,
   "metadata": {
    "scrolled": true
   },
   "outputs": [
    {
     "name": "stdout",
     "output_type": "stream",
     "text": [
      "(0, 1, 'Moscow', 'Central', 'male')\n",
      "(1, 2, 'Moscow', 'Central', 'female')\n",
      "(2, 3, 'Moscow', 'Central', 'female')\n",
      "(3, 4, 'Moscow', 'Central', 'male')\n",
      "(4, 5, 'Moscow', 'Central', 'female')\n",
      "(5, 6, 'Moscow', 'Central', 'male')\n",
      "(6, 7, 'Moscow', 'Central', 'male')\n",
      "(7, 8, 'Moscow', 'Central', 'male')\n",
      "(8, 9, 'Moscow', 'Central', 'male')\n",
      "(9, 10, 'Moscow', 'Central', 'male')\n",
      "(10, 11, 'Moscow', 'Central', 'male')\n",
      "(11, 12, 'Moscow', 'Central', 'female')\n",
      "(12, 13, 'Moscow', 'Central', 'male')\n",
      "(13, 14, 'Moscow', 'Central', 'male')\n",
      "(14, 15, 'Moscow', 'Central', 'male')\n",
      "(15, 16, 'Moscow', 'Central', 'female')\n",
      "(16, 17, 'Moscow', 'Central', 'female')\n",
      "(17, 18, 'Moscow', 'Central', 'female')\n",
      "(18, 19, 'Moscow', 'Central', 'female')\n",
      "(19, 20, 'Moscow', 'Central', 'female')\n",
      "(20, 21, 'Moscow', 'Central', 'female')\n",
      "(21, 22, 'Moscow', 'Central', 'female')\n",
      "(22, 23, 'Moscow', 'Central', 'female')\n",
      "(23, 24, 'Moscow', 'Central', 'female')\n",
      "(24, 25, 'Moscow', 'Central', 'male')\n",
      "(25, 26, 'Moskovskaja oblast', 'Central', 'male')\n",
      "(26, 27, 'Moskovskaja oblast', 'Central', 'female')\n",
      "(27, 28, 'Moskovskaja oblast', 'Central', 'male')\n",
      "(28, 29, 'Moskovskaja oblast', 'Central', 'male')\n",
      "(29, 39, 'Arjhangelskaja oblast', 'Northwestern', 'female')\n",
      "(30, 48, 'Other', 'Other', 'female')\n",
      "(31, 50, 'Other', 'Other', 'female')\n",
      "(32, 30, 'Respublika Saha (Jakutija)', 'Siberian', 'female')\n",
      "(33, 35, 'Volgogradskaja oblast', 'Volga', 'female')\n",
      "(34, 36, 'Volgogradskaja oblast', 'Volga', 'female')\n",
      "(35, 40, 'Other', 'Other', 'female')\n",
      "(36, 41, 'Other', 'Other', 'female')\n",
      "(37, 49, 'Other', 'Other', 'female')\n",
      "(38, 55, 'Other', 'Other', 'female')\n",
      "(39, 42, 'Other', 'Other', 'female')\n",
      "(40, 43, 'Other', 'Other', 'female')\n",
      "(41, 44, 'Other', 'Other', 'female')\n",
      "(42, 54, 'Other', 'Other', 'female')\n",
      "(43, 63, 'Khabarovskij kraj', 'Far Eastern', 'female')\n",
      "(44, 31, 'Respublika Saha (Jakutija)', 'Siberian', 'female')\n",
      "(45, 38, 'Murmanskaja oblast', 'Northwestern', 'female')\n",
      "(46, 57, 'Other', 'Other', 'female')\n",
      "(47, 59, 'Other', 'Abroad', 'female')\n",
      "(48, 32, 'Respublika Saha (Jakutija)', 'Siberian', 'female')\n",
      "(49, 33, 'Samarskaja oblast', 'Volga', 'male')\n",
      "(50, 47, 'Other', 'Other', 'male')\n",
      "(51, 51, 'Other', 'Other', 'male')\n",
      "(52, 45, 'Other', 'Other', 'male')\n",
      "(53, 52, 'Other', 'Other', 'male')\n",
      "(54, 53, 'Other', 'Other', 'male')\n",
      "(55, 58, 'Other', 'Abroad', 'male')\n",
      "(56, 61, 'Other', 'Far Eastern', 'male')\n",
      "(57, 62, 'Amurskaja oblast', 'Far Eastern', 'male')\n",
      "(58, 34, 'Samarskaja oblast', 'Volga', 'male')\n",
      "(59, 37, 'Altajskij kraj', 'Far Eastern', 'male')\n",
      "(60, 46, 'Other', 'Other', 'male')\n",
      "(61, 56, 'Other', 'Other', 'male')\n",
      "(62, 60, 'Other', 'Other', 'male')\n",
      "(63, 61, 'Chelyabinsk', 'Sovetsky', 'female')\n"
     ]
    }
   ],
   "source": [
    "c.execute('''INSERT INTO persons VALUES ('63', '61','Chelyabinsk', 'Sovetsky', 'female') ''')"
   ]
  },
  {
   "cell_type": "code",
   "execution_count": 25,
   "metadata": {
    "scrolled": true
   },
   "outputs": [
    {
     "name": "stdout",
     "output_type": "stream",
     "text": [
      "(0, 1, 9, 'соленый огурец', 'solenyj ogurec', 'pickle')\n",
      "(1, 2, 1, 'соленый огурец', 'solenyj ogurec', 'pickle')\n",
      "(2, 3, 3, 'соленый огурец', 'solenyj ogurec', 'pickle')\n",
      "(3, 4, 7, 'соленый огурец', 'solenyj ogurec', 'pickle')\n",
      "(4, 5, 3, 'соленый огурец', 'solenyj ogurec', 'pickle')\n",
      "(5, 6, 8, 'соленый огурец', 'solenyj ogurec', 'pickle')\n",
      "(6, 7, 8, 'соленый огурец', 'solenyj ogurec', 'pickle')\n",
      "(7, 8, 8, 'соленый огурец', 'solenyj ogurec', 'pickle')\n",
      "(8, 9, 10, 'соленый огурец', 'solenyj ogurec', 'pickle')\n",
      "(9, 10, 7, 'соленый огурец', 'solenyj ogurec', 'pickle')\n",
      "(10, 11, 9, 'соленый огурец', 'solenyj ogurec', 'pickle')\n",
      "(11, 12, 4, 'соленый огурец', 'solenyj ogurec', 'pickle')\n",
      "(12, 13, 10, 'соленый огурец', 'solenyj ogurec', 'pickle')\n",
      "(13, 14, 7, 'соленый огурец', 'solenyj ogurec', 'pickle')\n",
      "(14, 15, 9, 'соленый огурец', 'solenyj ogurec', 'pickle')\n",
      "(15, 16, 4, 'соленый огурец', 'solenyj ogurec', 'pickle')\n",
      "(16, 17, 4, 'турецкий барабан', 'tureckij baraban', 'turkish drum')\n",
      "(17, 18, 5, 'турецкий барабан', 'tureckij baraban', 'turkish drum')\n",
      "(18, 19, 2, 'турецкий барабан', 'tureckij baraban', 'turkish drum')\n",
      "(19, 20, 2, 'турецкий барабан', 'tureckij baraban', 'turkish drum')\n",
      "(20, 21, 5, 'турецкий барабан', 'tureckij baraban', 'turkish drum')\n",
      "(21, 22, 2, 'турецкий барабан', 'tureckij baraban', 'turkish drum')\n",
      "(22, 23, 5, 'турецкий барабан', 'tureckij baraban', 'turkish drum')\n",
      "(23, 24, 5, 'турецкий барабан', 'tureckij baraban', 'turkish drum')\n",
      "(24, 25, 8, 'турецкий барабан', 'tureckij baraban', 'turkish drum')\n",
      "(25, 26, 6, 'соленый огурец', 'solenyj ogurec', 'pickle')\n",
      "(26, 27, 3, 'соленый огурец', 'solenyj ogurec', 'pickle')\n",
      "(27, 28, 7, 'соленый огурец', 'solenyj ogurec', 'pickle')\n",
      "(28, 29, 7, 'соленый огурец', 'solenyj ogurec', 'pickle')\n",
      "(29, 39, 1, 'соленый огурец', 'solenyj ogurec', 'pickle')\n",
      "(30, 48, 1, 'соленый огурец', 'solenyj ogurec', 'pickle')\n",
      "(31, 50, 1, 'соленый огурец', 'solenyj ogurec', 'pickle')\n",
      "(32, 30, 2, 'соленый огурец', 'solenyj ogurec', 'pickle')\n",
      "(33, 35, 2, 'соленый огурец', 'solenyj ogurec', 'pickle')\n",
      "(34, 36, 2, 'соленый огурец', 'solenyj ogurec', 'pickle')\n",
      "(35, 40, 2, 'соленый огурец', 'solenyj ogurec', 'pickle')\n",
      "(36, 41, 2, 'соленый огурец', 'solenyj ogurec', 'pickle')\n",
      "(37, 49, 2, 'соленый огурец', 'solenyj ogurec', 'pickle')\n",
      "(38, 55, 2, 'соленый огурец', 'solenyj ogurec', 'pickle')\n",
      "(39, 42, 3, 'соленый огурец', 'solenyj ogurec', 'pickle')\n",
      "(40, 43, 3, 'соленый огурец', 'solenyj ogurec', 'pickle')\n",
      "(41, 44, 3, 'соленый огурец', 'solenyj ogurec', 'pickle')\n",
      "(42, 54, 3, 'соленый огурец', 'solenyj ogurec', 'pickle')\n",
      "(43, 63, 3, 'соленый огурец', 'solenyj ogurec', 'pickle')\n",
      "(44, 31, 4, 'соленый огурец', 'solenyj ogurec', 'pickle')\n",
      "(45, 38, 4, 'соленый огурец', 'solenyj ogurec', 'pickle')\n",
      "(46, 57, 4, 'соленый огурец', 'solenyj ogurec', 'pickle')\n",
      "(47, 59, 4, 'турецкий барабан', 'tureckij baraban', 'turkish drum')\n",
      "(48, 32, 5, 'шоколадина', 'šokoladina', 'chocolate bar')\n",
      "(49, 33, 5, 'шоколадина', 'šokoladina', 'chocolate bar')\n",
      "(50, 47, 5, 'шоколадина', 'šokoladina', 'chocolate bar')\n",
      "(51, 51, 5, 'шоколадина', 'šokoladina', 'chocolate bar')\n",
      "(52, 45, 6, 'шоколадина', 'šokoladina', 'chocolate bar')\n",
      "(53, 52, 6, 'шоколадина', 'šokoladina', 'chocolate bar')\n",
      "(54, 53, 8, 'соленый огурец', 'solenyj ogurec', 'pickle')\n",
      "(55, 58, 8, 'соленый огурец', 'solenyj ogurec', 'pickle')\n",
      "(56, 61, 8, 'соленый огурец', 'solenyj ogurec', 'pickle')\n",
      "(57, 62, 8, 'соленый огурец', 'solenyj ogurec', 'pickle')\n",
      "(58, 34, 9, 'соленый огурец', 'solenyj ogurec', 'pickle')\n",
      "(59, 37, 9, 'соленый огурец', 'solenyj ogurec', 'pickle')\n",
      "(60, 46, 9, 'соленый огурец', 'solenyj ogurec', 'pickle')\n",
      "(61, 56, 9, 'соленый огурец', 'solenyj ogurec', 'pickle')\n",
      "(62, 60, 9, 'соленый огурец', 'solenyj ogurec', 'pickle')\n",
      "(63, 61, 9, 'соленый огурец', 'solenyj ogurec', 'pickle')\n"
     ]
    }
   ],
   "source": [
    "c.execute('''INSERT INTO phrases VALUES ('63', '61', '9','соленый огурец', 'solenyj ogurec', 'pickle') ''')\n",
    "for row in c.execute('SELECT * FROM phrases'):\n",
    "    print(row)"
   ]
  },
  {
   "cell_type": "markdown",
   "metadata": {},
   "source": [
    "Here I have added my own personal data, how would I say. Firstly into the first table and then into the next."
   ]
  },
  {
   "cell_type": "code",
   "execution_count": 26,
   "metadata": {},
   "outputs": [
    {
     "data": {
      "text/plain": [
       "<sqlite3.Cursor at 0x8021c00>"
      ]
     },
     "execution_count": 26,
     "metadata": {},
     "output_type": "execute_result"
    }
   ],
   "source": [
    "c.execute('''INSERT INTO phrases VALUES ('bebe', 'nono', 'haha','byebye', 'whywhy', 'shhh') ''')"
   ]
  },
  {
   "cell_type": "code",
   "execution_count": 27,
   "metadata": {},
   "outputs": [
    {
     "name": "stdout",
     "output_type": "stream",
     "text": [
      "(0, 1, 9, 'соленый огурец', 'solenyj ogurec', 'pickle')\n",
      "(1, 2, 1, 'соленый огурец', 'solenyj ogurec', 'pickle')\n",
      "(2, 3, 3, 'соленый огурец', 'solenyj ogurec', 'pickle')\n",
      "(3, 4, 7, 'соленый огурец', 'solenyj ogurec', 'pickle')\n",
      "(4, 5, 3, 'соленый огурец', 'solenyj ogurec', 'pickle')\n",
      "(5, 6, 8, 'соленый огурец', 'solenyj ogurec', 'pickle')\n",
      "(6, 7, 8, 'соленый огурец', 'solenyj ogurec', 'pickle')\n",
      "(7, 8, 8, 'соленый огурец', 'solenyj ogurec', 'pickle')\n",
      "(8, 9, 10, 'соленый огурец', 'solenyj ogurec', 'pickle')\n",
      "(9, 10, 7, 'соленый огурец', 'solenyj ogurec', 'pickle')\n",
      "(10, 11, 9, 'соленый огурец', 'solenyj ogurec', 'pickle')\n",
      "(11, 12, 4, 'соленый огурец', 'solenyj ogurec', 'pickle')\n",
      "(12, 13, 10, 'соленый огурец', 'solenyj ogurec', 'pickle')\n",
      "(13, 14, 7, 'соленый огурец', 'solenyj ogurec', 'pickle')\n",
      "(14, 15, 9, 'соленый огурец', 'solenyj ogurec', 'pickle')\n",
      "(15, 16, 4, 'соленый огурец', 'solenyj ogurec', 'pickle')\n",
      "(16, 17, 4, 'турецкий барабан', 'tureckij baraban', 'turkish drum')\n",
      "(17, 18, 5, 'турецкий барабан', 'tureckij baraban', 'turkish drum')\n",
      "(18, 19, 2, 'турецкий барабан', 'tureckij baraban', 'turkish drum')\n",
      "(19, 20, 2, 'турецкий барабан', 'tureckij baraban', 'turkish drum')\n",
      "(20, 21, 5, 'турецкий барабан', 'tureckij baraban', 'turkish drum')\n",
      "(21, 22, 2, 'турецкий барабан', 'tureckij baraban', 'turkish drum')\n",
      "(22, 23, 5, 'турецкий барабан', 'tureckij baraban', 'turkish drum')\n",
      "(23, 24, 5, 'турецкий барабан', 'tureckij baraban', 'turkish drum')\n",
      "(24, 25, 8, 'турецкий барабан', 'tureckij baraban', 'turkish drum')\n",
      "(25, 26, 6, 'соленый огурец', 'solenyj ogurec', 'pickle')\n",
      "(26, 27, 3, 'соленый огурец', 'solenyj ogurec', 'pickle')\n",
      "(27, 28, 7, 'соленый огурец', 'solenyj ogurec', 'pickle')\n",
      "(28, 29, 7, 'соленый огурец', 'solenyj ogurec', 'pickle')\n",
      "(29, 39, 1, 'соленый огурец', 'solenyj ogurec', 'pickle')\n",
      "(30, 48, 1, 'соленый огурец', 'solenyj ogurec', 'pickle')\n",
      "(31, 50, 1, 'соленый огурец', 'solenyj ogurec', 'pickle')\n",
      "(32, 30, 2, 'соленый огурец', 'solenyj ogurec', 'pickle')\n",
      "(33, 35, 2, 'соленый огурец', 'solenyj ogurec', 'pickle')\n",
      "(34, 36, 2, 'соленый огурец', 'solenyj ogurec', 'pickle')\n",
      "(35, 40, 2, 'соленый огурец', 'solenyj ogurec', 'pickle')\n",
      "(36, 41, 2, 'соленый огурец', 'solenyj ogurec', 'pickle')\n",
      "(37, 49, 2, 'соленый огурец', 'solenyj ogurec', 'pickle')\n",
      "(38, 55, 2, 'соленый огурец', 'solenyj ogurec', 'pickle')\n",
      "(39, 42, 3, 'соленый огурец', 'solenyj ogurec', 'pickle')\n",
      "(40, 43, 3, 'соленый огурец', 'solenyj ogurec', 'pickle')\n",
      "(41, 44, 3, 'соленый огурец', 'solenyj ogurec', 'pickle')\n",
      "(42, 54, 3, 'соленый огурец', 'solenyj ogurec', 'pickle')\n",
      "(43, 63, 3, 'соленый огурец', 'solenyj ogurec', 'pickle')\n",
      "(44, 31, 4, 'соленый огурец', 'solenyj ogurec', 'pickle')\n",
      "(45, 38, 4, 'соленый огурец', 'solenyj ogurec', 'pickle')\n",
      "(46, 57, 4, 'соленый огурец', 'solenyj ogurec', 'pickle')\n",
      "(47, 59, 4, 'турецкий барабан', 'tureckij baraban', 'turkish drum')\n",
      "(48, 32, 5, 'шоколадина', 'šokoladina', 'chocolate bar')\n",
      "(49, 33, 5, 'шоколадина', 'šokoladina', 'chocolate bar')\n",
      "(50, 47, 5, 'шоколадина', 'šokoladina', 'chocolate bar')\n",
      "(51, 51, 5, 'шоколадина', 'šokoladina', 'chocolate bar')\n",
      "(52, 45, 6, 'шоколадина', 'šokoladina', 'chocolate bar')\n",
      "(53, 52, 6, 'шоколадина', 'šokoladina', 'chocolate bar')\n",
      "(54, 53, 8, 'соленый огурец', 'solenyj ogurec', 'pickle')\n",
      "(55, 58, 8, 'соленый огурец', 'solenyj ogurec', 'pickle')\n",
      "(56, 61, 8, 'соленый огурец', 'solenyj ogurec', 'pickle')\n",
      "(57, 62, 8, 'соленый огурец', 'solenyj ogurec', 'pickle')\n",
      "(58, 34, 9, 'соленый огурец', 'solenyj ogurec', 'pickle')\n",
      "(59, 37, 9, 'соленый огурец', 'solenyj ogurec', 'pickle')\n",
      "(60, 46, 9, 'соленый огурец', 'solenyj ogurec', 'pickle')\n",
      "(61, 56, 9, 'соленый огурец', 'solenyj ogurec', 'pickle')\n",
      "(62, 60, 9, 'соленый огурец', 'solenyj ogurec', 'pickle')\n",
      "(63, 61, 9, 'соленый огурец', 'solenyj ogurec', 'pickle')\n",
      "('bebe', 'nono', 'haha', 'byebye', 'whywhy', 'shhh')\n"
     ]
    }
   ],
   "source": [
    "for row in c.execute('SELECT * FROM phrases'):\n",
    "    print(row)"
   ]
  },
  {
   "cell_type": "markdown",
   "metadata": {},
   "source": [
    "But then some trickster added some useless information into my database, so I immediately must delete it!"
   ]
  },
  {
   "cell_type": "code",
   "execution_count": 28,
   "metadata": {
    "scrolled": true
   },
   "outputs": [
    {
     "name": "stdout",
     "output_type": "stream",
     "text": [
      "(0, 1, 9, 'соленый огурец', 'solenyj ogurec', 'pickle')\n",
      "(1, 2, 1, 'соленый огурец', 'solenyj ogurec', 'pickle')\n",
      "(2, 3, 3, 'соленый огурец', 'solenyj ogurec', 'pickle')\n",
      "(3, 4, 7, 'соленый огурец', 'solenyj ogurec', 'pickle')\n",
      "(4, 5, 3, 'соленый огурец', 'solenyj ogurec', 'pickle')\n",
      "(5, 6, 8, 'соленый огурец', 'solenyj ogurec', 'pickle')\n",
      "(6, 7, 8, 'соленый огурец', 'solenyj ogurec', 'pickle')\n",
      "(7, 8, 8, 'соленый огурец', 'solenyj ogurec', 'pickle')\n",
      "(8, 9, 10, 'соленый огурец', 'solenyj ogurec', 'pickle')\n",
      "(9, 10, 7, 'соленый огурец', 'solenyj ogurec', 'pickle')\n",
      "(10, 11, 9, 'соленый огурец', 'solenyj ogurec', 'pickle')\n",
      "(11, 12, 4, 'соленый огурец', 'solenyj ogurec', 'pickle')\n",
      "(12, 13, 10, 'соленый огурец', 'solenyj ogurec', 'pickle')\n",
      "(13, 14, 7, 'соленый огурец', 'solenyj ogurec', 'pickle')\n",
      "(14, 15, 9, 'соленый огурец', 'solenyj ogurec', 'pickle')\n",
      "(15, 16, 4, 'соленый огурец', 'solenyj ogurec', 'pickle')\n",
      "(16, 17, 4, 'турецкий барабан', 'tureckij baraban', 'turkish drum')\n",
      "(17, 18, 5, 'турецкий барабан', 'tureckij baraban', 'turkish drum')\n",
      "(18, 19, 2, 'турецкий барабан', 'tureckij baraban', 'turkish drum')\n",
      "(19, 20, 2, 'турецкий барабан', 'tureckij baraban', 'turkish drum')\n",
      "(20, 21, 5, 'турецкий барабан', 'tureckij baraban', 'turkish drum')\n",
      "(21, 22, 2, 'турецкий барабан', 'tureckij baraban', 'turkish drum')\n",
      "(22, 23, 5, 'турецкий барабан', 'tureckij baraban', 'turkish drum')\n",
      "(23, 24, 5, 'турецкий барабан', 'tureckij baraban', 'turkish drum')\n",
      "(24, 25, 8, 'турецкий барабан', 'tureckij baraban', 'turkish drum')\n",
      "(25, 26, 6, 'соленый огурец', 'solenyj ogurec', 'pickle')\n",
      "(26, 27, 3, 'соленый огурец', 'solenyj ogurec', 'pickle')\n",
      "(27, 28, 7, 'соленый огурец', 'solenyj ogurec', 'pickle')\n",
      "(28, 29, 7, 'соленый огурец', 'solenyj ogurec', 'pickle')\n",
      "(29, 39, 1, 'соленый огурец', 'solenyj ogurec', 'pickle')\n",
      "(30, 48, 1, 'соленый огурец', 'solenyj ogurec', 'pickle')\n",
      "(31, 50, 1, 'соленый огурец', 'solenyj ogurec', 'pickle')\n",
      "(32, 30, 2, 'соленый огурец', 'solenyj ogurec', 'pickle')\n",
      "(33, 35, 2, 'соленый огурец', 'solenyj ogurec', 'pickle')\n",
      "(34, 36, 2, 'соленый огурец', 'solenyj ogurec', 'pickle')\n",
      "(35, 40, 2, 'соленый огурец', 'solenyj ogurec', 'pickle')\n",
      "(36, 41, 2, 'соленый огурец', 'solenyj ogurec', 'pickle')\n",
      "(37, 49, 2, 'соленый огурец', 'solenyj ogurec', 'pickle')\n",
      "(38, 55, 2, 'соленый огурец', 'solenyj ogurec', 'pickle')\n",
      "(39, 42, 3, 'соленый огурец', 'solenyj ogurec', 'pickle')\n",
      "(40, 43, 3, 'соленый огурец', 'solenyj ogurec', 'pickle')\n",
      "(41, 44, 3, 'соленый огурец', 'solenyj ogurec', 'pickle')\n",
      "(42, 54, 3, 'соленый огурец', 'solenyj ogurec', 'pickle')\n",
      "(43, 63, 3, 'соленый огурец', 'solenyj ogurec', 'pickle')\n",
      "(44, 31, 4, 'соленый огурец', 'solenyj ogurec', 'pickle')\n",
      "(45, 38, 4, 'соленый огурец', 'solenyj ogurec', 'pickle')\n",
      "(46, 57, 4, 'соленый огурец', 'solenyj ogurec', 'pickle')\n",
      "(47, 59, 4, 'турецкий барабан', 'tureckij baraban', 'turkish drum')\n",
      "(48, 32, 5, 'шоколадина', 'šokoladina', 'chocolate bar')\n",
      "(49, 33, 5, 'шоколадина', 'šokoladina', 'chocolate bar')\n",
      "(50, 47, 5, 'шоколадина', 'šokoladina', 'chocolate bar')\n",
      "(51, 51, 5, 'шоколадина', 'šokoladina', 'chocolate bar')\n",
      "(52, 45, 6, 'шоколадина', 'šokoladina', 'chocolate bar')\n",
      "(53, 52, 6, 'шоколадина', 'šokoladina', 'chocolate bar')\n",
      "(54, 53, 8, 'соленый огурец', 'solenyj ogurec', 'pickle')\n",
      "(55, 58, 8, 'соленый огурец', 'solenyj ogurec', 'pickle')\n",
      "(56, 61, 8, 'соленый огурец', 'solenyj ogurec', 'pickle')\n",
      "(57, 62, 8, 'соленый огурец', 'solenyj ogurec', 'pickle')\n",
      "(58, 34, 9, 'соленый огурец', 'solenyj ogurec', 'pickle')\n",
      "(59, 37, 9, 'соленый огурец', 'solenyj ogurec', 'pickle')\n",
      "(60, 46, 9, 'соленый огурец', 'solenyj ogurec', 'pickle')\n",
      "(61, 56, 9, 'соленый огурец', 'solenyj ogurec', 'pickle')\n",
      "(62, 60, 9, 'соленый огурец', 'solenyj ogurec', 'pickle')\n",
      "(63, 61, 9, 'соленый огурец', 'solenyj ogurec', 'pickle')\n"
     ]
    }
   ],
   "source": [
    "c.execute('''DELETE FROM phrases WHERE X='nono' ''')\n",
    "for row in c.execute('SELECT * FROM phrases'):\n",
    "    print(row)"
   ]
  },
  {
   "cell_type": "markdown",
   "metadata": {},
   "source": [
    "It worked out! Yes! I have deleted the useless row!"
   ]
  },
  {
   "cell_type": "markdown",
   "metadata": {},
   "source": [
    "**Plotting**"
   ]
  },
  {
   "cell_type": "markdown",
   "metadata": {},
   "source": [
    "To create plots of my data I have decided to use _seaborn_ library."
   ]
  },
  {
   "cell_type": "code",
   "execution_count": 31,
   "metadata": {
    "scrolled": false
   },
   "outputs": [
    {
     "data": {
      "text/plain": [
       "<matplotlib.axes._subplots.AxesSubplot at 0xb362a58>"
      ]
     },
     "execution_count": 31,
     "metadata": {},
     "output_type": "execute_result"
    },
    {
     "data": {
      "image/png": "[encoded data removed]",
      "text/plain": [
       "<Figure size 432x288 with 1 Axes>"
      ]
     },
     "metadata": {
      "needs_background": "light"
     },
     "output_type": "display_data"
    }
   ],
   "source": [
    "import seaborn as sns\n",
    "import matplotlib.pyplot as plt\n",
    "\n",
    "sns.countplot(y='phrase', data=df_phrases, palette=\"hls\")"
   ]
  },
  {
   "cell_type": "markdown",
   "metadata": {},
   "source": [
    "Here we count how many times we meet each ending of the phrase. Obviously, _солёный огурец_ is the most frequent one."
   ]
  },
  {
   "cell_type": "code",
   "execution_count": 13,
   "metadata": {
    "scrolled": true
   },
   "outputs": [
    {
     "name": "stdout",
     "output_type": "stream",
     "text": [
      "('соленый огурец', 'male')\n",
      "('соленый огурец', 'female')\n",
      "('соленый огурец', 'female')\n",
      "('соленый огурец', 'male')\n",
      "('соленый огурец', 'female')\n",
      "('соленый огурец', 'male')\n",
      "('соленый огурец', 'male')\n",
      "('соленый огурец', 'male')\n",
      "('соленый огурец', 'male')\n",
      "('соленый огурец', 'male')\n",
      "('соленый огурец', 'male')\n",
      "('соленый огурец', 'female')\n",
      "('соленый огурец', 'male')\n",
      "('соленый огурец', 'male')\n",
      "('соленый огурец', 'male')\n",
      "('соленый огурец', 'female')\n",
      "('турецкий барабан', 'female')\n",
      "('турецкий барабан', 'female')\n",
      "('турецкий барабан', 'female')\n",
      "('турецкий барабан', 'female')\n",
      "('турецкий барабан', 'female')\n",
      "('турецкий барабан', 'female')\n",
      "('турецкий барабан', 'female')\n",
      "('турецкий барабан', 'female')\n",
      "('турецкий барабан', 'male')\n",
      "('соленый огурец', 'male')\n",
      "('соленый огурец', 'female')\n",
      "('соленый огурец', 'male')\n",
      "('соленый огурец', 'male')\n",
      "('соленый огурец', 'female')\n",
      "('соленый огурец', 'female')\n",
      "('соленый огурец', 'female')\n",
      "('соленый огурец', 'female')\n",
      "('соленый огурец', 'female')\n",
      "('соленый огурец', 'female')\n",
      "('соленый огурец', 'female')\n",
      "('соленый огурец', 'female')\n",
      "('соленый огурец', 'female')\n",
      "('соленый огурец', 'female')\n",
      "('соленый огурец', 'female')\n",
      "('соленый огурец', 'female')\n",
      "('соленый огурец', 'female')\n",
      "('соленый огурец', 'female')\n",
      "('соленый огурец', 'female')\n",
      "('соленый огурец', 'female')\n",
      "('соленый огурец', 'female')\n",
      "('соленый огурец', 'female')\n",
      "('турецкий барабан', 'female')\n",
      "('шоколадина', 'female')\n",
      "('шоколадина', 'male')\n",
      "('шоколадина', 'male')\n",
      "('шоколадина', 'male')\n",
      "('шоколадина', 'male')\n",
      "('шоколадина', 'male')\n",
      "('соленый огурец', 'male')\n",
      "('соленый огурец', 'male')\n",
      "('соленый огурец', 'male')\n",
      "('соленый огурец', 'male')\n",
      "('соленый огурец', 'male')\n",
      "('соленый огурец', 'male')\n",
      "('соленый огурец', 'male')\n",
      "('соленый огурец', 'male')\n",
      "('соленый огурец', 'male')\n"
     ]
    }
   ],
   "source": [
    "c.execute('''SELECT phrases.phrase, persons.sex \n",
    "               FROM phrases                    \n",
    "               INNER JOIN persons ON phrases.X=persons.X;''')\n",
    "\n",
    "for row in c.fetchall():\n",
    "    print(row)"
   ]
  },
  {
   "cell_type": "markdown",
   "metadata": {},
   "source": [
    "Joining values from different tables to create another plot."
   ]
  },
  {
   "cell_type": "code",
   "execution_count": 33,
   "metadata": {},
   "outputs": [
    {
     "data": {
      "text/plain": [
       "<matplotlib.axes._subplots.AxesSubplot at 0xb45a5c0>"
      ]
     },
     "execution_count": 33,
     "metadata": {},
     "output_type": "execute_result"
    },
    {
     "data": {
      "image/png": "[encoded data removed]",
      "text/plain": [
       "<Figure size 432x288 with 1 Axes>"
      ]
     },
     "metadata": {
      "needs_background": "light"
     },
     "output_type": "display_data"
    }
   ],
   "source": [
    "sns.countplot(y='sex', data=df_persons, palette=\"Set2\")"
   ]
  },
  {
   "cell_type": "markdown",
   "metadata": {},
   "source": [
    "Here we can see who finishes their phrases with _солёный огурец_ more frequently. Slightly more often women do that but statistically this number is insignificant."
   ]
  },
  {
   "cell_type": "code",
   "execution_count": 15,
   "metadata": {},
   "outputs": [
    {
     "name": "stdout",
     "output_type": "stream",
     "text": [
      "('турецкий барабан', 'Moscow')\n",
      "('турецкий барабан', 'Moscow')\n",
      "('турецкий барабан', 'Moscow')\n",
      "('турецкий барабан', 'Moscow')\n",
      "('турецкий барабан', 'Moscow')\n",
      "('турецкий барабан', 'Moscow')\n",
      "('турецкий барабан', 'Moscow')\n",
      "('турецкий барабан', 'Moscow')\n",
      "('турецкий барабан', 'Moscow')\n",
      "('турецкий барабан', 'Other')\n"
     ]
    }
   ],
   "source": [
    "c.execute('''SELECT phrases.phrase, persons.region \n",
    "               FROM phrases                    \n",
    "               INNER JOIN persons ON phrases.X=persons.X\n",
    "               WHERE phrases.phrase = \"турецкий барабан\"''')\n",
    "\n",
    "for row in c.fetchall():\n",
    "    print(row)"
   ]
  },
  {
   "cell_type": "markdown",
   "metadata": {},
   "source": [
    "I wanted to know where people use _турецкий барабан_. Turns out, that almost exclusively in Moscow."
   ]
  },
  {
   "cell_type": "code",
   "execution_count": 32,
   "metadata": {},
   "outputs": [
    {
     "data": {
      "text/plain": [
       "<matplotlib.axes._subplots.AxesSubplot at 0xb395748>"
      ]
     },
     "execution_count": 32,
     "metadata": {},
     "output_type": "execute_result"
    },
    {
     "data": {
      "image/png": "[encoded data removed]",
      "text/plain": [
       "<Figure size 432x288 with 1 Axes>"
      ]
     },
     "metadata": {
      "needs_background": "light"
     },
     "output_type": "display_data"
    }
   ],
   "source": [
    "sns.countplot(y='region', data=df_persons, palette=\"Set2\")"
   ]
  },
  {
   "cell_type": "markdown",
   "metadata": {},
   "source": [
    "This plot shows how many regions participated in the research."
   ]
  },
  {
   "cell_type": "markdown",
   "metadata": {},
   "source": [
    "In the next part of the code I have created lists for each endidng out of the three of them. In each list there are regions where this ending was used and how many times."
   ]
  },
  {
   "cell_type": "code",
   "execution_count": 41,
   "metadata": {},
   "outputs": [],
   "source": [
    "c.execute('''SELECT region\n",
    "        FROM persons\n",
    "        WHERE X IN(SELECT X \n",
    "         FROM phrases\n",
    "         WHERE phrase = 'соленый огурец')''')\n",
    "\n",
    "pickle_regions = []\n",
    "for row in c.fetchall():\n",
    "    pickle_regions.append(row)\n",
    "\n",
    "c.execute('''SELECT region\n",
    "        FROM persons\n",
    "        WHERE X IN(SELECT X \n",
    "         FROM phrases\n",
    "         WHERE phrase = 'турецкий барабан')''')\n",
    "\n",
    "drum_regions = []\n",
    "for row in c.fetchall():\n",
    "    drum_regions.append(row)\n",
    "\n",
    "c.execute('''SELECT region\n",
    "        FROM persons\n",
    "        WHERE X IN(SELECT X \n",
    "         FROM phrases\n",
    "         WHERE phrase = 'шоколадина')''')\n",
    "\n",
    "chocolate_regions = []\n",
    "for row in c.fetchall():\n",
    "    chocolate_regions.append(row)"
   ]
  },
  {
   "cell_type": "code",
   "execution_count": 42,
   "metadata": {},
   "outputs": [
    {
     "data": {
      "text/plain": [
       "<matplotlib.axes._subplots.AxesSubplot at 0xb5716d8>"
      ]
     },
     "execution_count": 42,
     "metadata": {},
     "output_type": "execute_result"
    },
    {
     "data": {
      "image/png": "[encoded data removed]",
      "text/plain": [
       "<Figure size 432x288 with 1 Axes>"
      ]
     },
     "metadata": {
      "needs_background": "light"
     },
     "output_type": "display_data"
    }
   ],
   "source": [
    "pickle = pd.DataFrame(pickle_regions, columns=['region'])\n",
    "\n",
    "sns.countplot(y='region', data=pickle, palette=\"Greens_d\")"
   ]
  },
  {
   "cell_type": "markdown",
   "metadata": {},
   "source": [
    "Here we see how many times and where was _солёный огурец_ used."
   ]
  },
  {
   "cell_type": "code",
   "execution_count": 43,
   "metadata": {},
   "outputs": [
    {
     "data": {
      "text/plain": [
       "<matplotlib.axes._subplots.AxesSubplot at 0xb6abb70>"
      ]
     },
     "execution_count": 43,
     "metadata": {},
     "output_type": "execute_result"
    },
    {
     "data": {
      "image/png": "[encoded data removed]",
      "text/plain": [
       "<Figure size 432x288 with 1 Axes>"
      ]
     },
     "metadata": {
      "needs_background": "light"
     },
     "output_type": "display_data"
    }
   ],
   "source": [
    "drum = pd.DataFrame(drum_regions, columns=['region'])\n",
    "\n",
    "sns.countplot(y='region', data=drum, palette=\"Greens_d\")"
   ]
  },
  {
   "cell_type": "markdown",
   "metadata": {},
   "source": [
    "The same here but with _турецкий барабан_. If we compare this plot and the previous one we will see that even though Moscow is the leader in finishing the phrase with *турецкий барабан*, it is stil not the most popular ending in the city."
   ]
  },
  {
   "cell_type": "code",
   "execution_count": 44,
   "metadata": {},
   "outputs": [
    {
     "data": {
      "text/plain": [
       "<matplotlib.axes._subplots.AxesSubplot at 0xb62ecf8>"
      ]
     },
     "execution_count": 44,
     "metadata": {},
     "output_type": "execute_result"
    },
    {
     "data": {
      "image/png": "[encoded data removed]",
      "text/plain": [
       "<Figure size 432x288 with 1 Axes>"
      ]
     },
     "metadata": {
      "needs_background": "light"
     },
     "output_type": "display_data"
    }
   ],
   "source": [
    "chocolate = pd.DataFrame(chocolate_regions, columns=['region'])\n",
    "\n",
    "sns.countplot(y='region', data=chocolate, palette=\"Greens_d\")"
   ]
  },
  {
   "cell_type": "markdown",
   "metadata": {},
   "source": [
    "And finally, a plot with a couple of strange people that finish the phrase with _шоколадина_."
   ]
  },
  {
   "cell_type": "markdown",
   "metadata": {},
   "source": [
    "Just in case:\n",
    "A way how to count how many times each ending occur.  "
   ]
  },
  {
   "cell_type": "code",
   "execution_count": 45,
   "metadata": {},
   "outputs": [
    {
     "name": "stdout",
     "output_type": "stream",
     "text": [
      "(16,)\n"
     ]
    }
   ],
   "source": [
    "c.execute('''SELECT COUNT(*) \n",
    "        FROM phrases\n",
    "        WHERE X IN(SELECT X \n",
    "         FROM persons\n",
    "         WHERE region = 'Moscow')\n",
    "         AND phrases.phrase = 'соленый огурец'   ''') \n",
    "for row in c.fetchall():\n",
    "    print(row)"
   ]
  },
  {
   "cell_type": "code",
   "execution_count": 46,
   "metadata": {},
   "outputs": [
    {
     "name": "stdout",
     "output_type": "stream",
     "text": [
      "(9,)\n"
     ]
    }
   ],
   "source": [
    "c.execute('''SELECT COUNT(*)\n",
    "         FROM phrases\n",
    "         WHERE phrases.X IN(SELECT X\n",
    "         FROM persons\n",
    "         WHERE region = 'Moscow')\n",
    "         AND phrases.phrase = 'турецкий барабан'   ''')\n",
    "\n",
    "for row in c.fetchall():\n",
    "    print(row)"
   ]
  },
  {
   "cell_type": "markdown",
   "metadata": {},
   "source": [
    "# Final project"
   ]
  },
  {
   "cell_type": "markdown",
   "metadata": {},
   "source": [
    "I am not yet sure what I would like to do. I have a crazy idea about creating an app (or, for now, writing a code) that would identify language. Some kind of Shazam for languages. I know, that is too enthusiastic. It is a good idea to start with trying to write a code that would identify language by a written text, kind of what Google Translate does. This is why I am interested in speech recognition. So, I think I am gonna try to do something in this area but I need to elaborate on the plan of the project more. I will try to do it in the following week."
   ]
  }
 ],
 "metadata": {
  "kernelspec": {
   "display_name": "Python 3",
   "language": "python",
   "name": "python3"
  },
  "language_info": {
   "codemirror_mode": {
    "name": "ipython",
    "version": 3
   },
   "file_extension": ".py",
   "mimetype": "text/x-python",
   "name": "python",
   "nbconvert_exporter": "python",
   "pygments_lexer": "ipython3",
   "version": "3.7.3"
  }
 },
 "nbformat": 4,
 "nbformat_minor": 4
}
